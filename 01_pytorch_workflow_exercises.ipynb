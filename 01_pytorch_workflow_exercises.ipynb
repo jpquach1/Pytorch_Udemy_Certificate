{
  "nbformat": 4,
  "nbformat_minor": 0,
  "metadata": {
    "colab": {
      "provenance": [],
      "include_colab_link": true
    },
    "kernelspec": {
      "name": "python3",
      "display_name": "Python 3"
    },
    "language_info": {
      "name": "python"
    },
    "accelerator": "GPU",
    "gpuClass": "standard"
  },
  "cells": [
    {
      "cell_type": "markdown",
      "metadata": {
        "id": "view-in-github",
        "colab_type": "text"
      },
      "source": [
        "<a href=\"https://colab.research.google.com/github/jpquach1/Pytorch_Udemy_Certificate/blob/main/01_pytorch_workflow_exercises.ipynb\" target=\"_parent\"><img src=\"https://colab.research.google.com/assets/colab-badge.svg\" alt=\"Open In Colab\"/></a>"
      ]
    },
    {
      "cell_type": "markdown",
      "source": [
        "# 01. PyTorch Workflow Exercise Template\n",
        "\n",
        "The following is a template for the PyTorch workflow exercises.\n",
        "\n",
        "It's only starter code and it's your job to fill in the blanks.\n",
        "\n",
        "Because of the flexibility of PyTorch, there may be more than one way to answer the question.\n",
        "\n",
        "Don't worry about trying to be *right* just try writing code that suffices the question.\n",
        "\n",
        "You can see one form of [solutions on GitHub](https://github.com/mrdbourke/pytorch-deep-learning/tree/main/extras/solutions) (but try the exercises below yourself first!)."
      ],
      "metadata": {
        "id": "N8LsPXZti9Sw"
      }
    },
    {
      "cell_type": "code",
      "source": [
        "# Import necessary libraries\n",
        "\n",
        "import torch\n",
        "from torch import nn # nn contains all of PyTorch's building blocks for neural networks\n",
        "import numpy as np\n",
        "import matplotlib.pyplot as plt\n",
        "\n",
        "# Check PyTorch version\n",
        "torch.__version__"
      ],
      "metadata": {
        "id": "Glu2fM4dkNlx",
        "colab": {
          "base_uri": "https://localhost:8080/",
          "height": 35
        },
        "outputId": "9f605bde-290a-4b1d-b26e-b58dca64088e"
      },
      "execution_count": 83,
      "outputs": [
        {
          "output_type": "execute_result",
          "data": {
            "text/plain": [
              "'2.0.0+cu118'"
            ],
            "application/vnd.google.colaboratory.intrinsic+json": {
              "type": "string"
            }
          },
          "metadata": {},
          "execution_count": 83
        }
      ]
    },
    {
      "cell_type": "code",
      "source": [
        "# Setup device-agnostic code\n",
        "device = \"cuda\" if torch.cuda.is_available() else \"cpu\"\n",
        "print(f\"Using device: {device}\")"
      ],
      "metadata": {
        "id": "LqKhXY26m31s",
        "colab": {
          "base_uri": "https://localhost:8080/"
        },
        "outputId": "f6099ed3-876a-4b0f-c27f-4b225819c637"
      },
      "execution_count": 84,
      "outputs": [
        {
          "output_type": "stream",
          "name": "stdout",
          "text": [
            "Using device: cuda\n"
          ]
        }
      ]
    },
    {
      "cell_type": "markdown",
      "source": [
        "## 1. Create a straight line dataset using the linear regression formula (`weight * X + bias`).\n",
        "  * Set `weight=0.3` and `bias=0.9` there should be at least 100 datapoints total. \n",
        "  * Split the data into 80% training, 20% testing.\n",
        "  * Plot the training and testing data so it becomes visual.\n",
        "\n",
        "Your output of the below cell should look something like:\n",
        "```\n",
        "Number of X samples: 100\n",
        "Number of y samples: 100\n",
        "First 10 X & y samples:\n",
        "X: tensor([0.0000, 0.0100, 0.0200, 0.0300, 0.0400, 0.0500, 0.0600, 0.0700, 0.0800,\n",
        "        0.0900])\n",
        "y: tensor([0.9000, 0.9030, 0.9060, 0.9090, 0.9120, 0.9150, 0.9180, 0.9210, 0.9240,\n",
        "        0.9270])\n",
        "```\n",
        "\n",
        "Of course the numbers in `X` and `y` may be different but ideally they're created using the linear regression formula."
      ],
      "metadata": {
        "id": "g7HUhxCxjeBx"
      }
    },
    {
      "cell_type": "code",
      "source": [
        "torch.manual_seed(42)\n",
        "\n",
        "# Create the data parameters\n",
        "weight = torch.tensor(0.3,dtype=torch.float).to(device=device)\n",
        "bias = torch.tensor(0.9,dtype=torch.float).to(device=device)\n",
        "\n",
        "# Make X and y using linear regression feature\n",
        "X = torch.rand(100).to(device=device)\n",
        "y = weight * X + bias\n",
        "X = torch.unsqueeze(X, 1)\n",
        "y = torch.unsqueeze(y, 1)\n",
        "\n",
        "print(f\"Number of X samples: {len(X)}\")\n",
        "print(f\"Number of y samples: {len(y)}\")\n",
        "print(f\"First 10 X & y samples:\\nX: {X[:10]}\\ny: {y[:10]}\")"
      ],
      "metadata": {
        "id": "KbDG5MV7jhvE",
        "colab": {
          "base_uri": "https://localhost:8080/"
        },
        "outputId": "08c63d69-55ec-4721-acac-6cda0a6ec61b"
      },
      "execution_count": 85,
      "outputs": [
        {
          "output_type": "stream",
          "name": "stdout",
          "text": [
            "Number of X samples: 100\n",
            "Number of y samples: 100\n",
            "First 10 X & y samples:\n",
            "X: tensor([[0.8823],\n",
            "        [0.9150],\n",
            "        [0.3829],\n",
            "        [0.9593],\n",
            "        [0.3904],\n",
            "        [0.6009],\n",
            "        [0.2566],\n",
            "        [0.7936],\n",
            "        [0.9408],\n",
            "        [0.1332]], device='cuda:0')\n",
            "y: tensor([[1.1647],\n",
            "        [1.1745],\n",
            "        [1.0149],\n",
            "        [1.1878],\n",
            "        [1.0171],\n",
            "        [1.0803],\n",
            "        [0.9770],\n",
            "        [1.1381],\n",
            "        [1.1822],\n",
            "        [0.9400]], device='cuda:0')\n"
          ]
        }
      ]
    },
    {
      "cell_type": "code",
      "source": [
        "# Split the data into training and testing\n",
        "split = 80\n",
        "X_train = X[:split]\n",
        "y_train = y[:split]\n",
        "X_test = X[split:]\n",
        "y_test = y[split:]"
      ],
      "metadata": {
        "id": "GlwtT1djkmLw"
      },
      "execution_count": 86,
      "outputs": []
    },
    {
      "cell_type": "code",
      "source": [
        "# Plot the training and testing data \n",
        "\n",
        "def plot_predictions(train_data=X_train,\n",
        "                     train_labels=y_train,\n",
        "                     test_data=X_test,\n",
        "                     test_labels=y_test,\n",
        "                     predictions=None):\n",
        "  \"\"\"\n",
        "  Plots training data,test data and compares predictions.\n",
        "  \"\"\"\n",
        "  plt.figure(figsize=(10,7))\n",
        "\n",
        "  # Plot training data in blue\n",
        "  plt.scatter(train_data.cpu().numpy(), train_labels.cpu().numpy(), c=\"b\", s=4, label=\"Training data\")\n",
        "\n",
        "  # Plot test data in green\n",
        "  plt.scatter(test_data.cpu().numpy(), test_labels.cpu().numpy(), c=\"g\", s=4, label=\"Testing data\")\n",
        "\n",
        "  # Are there predictions?\n",
        "  if predictions is not None:\n",
        "    # Plot the predictions if they exist\n",
        "    plt.scatter(test_data.cpu().numpy(), predictions.cpu().numpy(), c=\"r\", s=4, label=\"Predictions\")\n",
        "  \n",
        "  # Show the legend\n",
        "  plt.legend(prop={\"size\":14});\n",
        "\n",
        "plot_predictions(X_train, y_train, X_test, y_test)"
      ],
      "metadata": {
        "id": "29iQZFNhlYJ-",
        "colab": {
          "base_uri": "https://localhost:8080/",
          "height": 599
        },
        "outputId": "fcfee2fd-cac5-4d61-94fe-41856bcfa962"
      },
      "execution_count": 87,
      "outputs": [
        {
          "output_type": "display_data",
          "data": {
            "text/plain": [
              "<Figure size 1000x700 with 1 Axes>"
            ],
            "image/png": "[encoded data removed]"
          },
          "metadata": {}
        }
      ]
    },
    {
      "cell_type": "markdown",
      "source": [
        "## 2. Build a PyTorch model by subclassing `nn.Module`. \n",
        "  * Inside should be a randomly initialized `nn.Parameter()` with `requires_grad=True`, one for `weights` and one for `bias`. \n",
        "  * Implement the `forward()` method to compute the linear regression function you used to create the dataset in 1. \n",
        "  * Once you've constructed the model, make an instance of it and check its `state_dict()`.\n",
        "  * **Note:** If you'd like to use `nn.Linear()` instead of `nn.Parameter()` you can."
      ],
      "metadata": {
        "id": "ImZoe3v8jif8"
      }
    },
    {
      "cell_type": "code",
      "source": [
        "# Create PyTorch linear regression model by subclassing nn.Module\n",
        "\n",
        "class LinearRegressionModel(nn.Module):\n",
        "  def __init__(self):\n",
        "    super().__init__()\n",
        "    self.linear_layer = nn.Linear(in_features=1, out_features=1)\n",
        "\n",
        "  def forward(self, x: torch.Tensor) -> torch.Tensor:\n",
        "    return self.linear_layer(x)\n"
      ],
      "metadata": {
        "id": "qzd__Y5rjtB8"
      },
      "execution_count": 88,
      "outputs": []
    },
    {
      "cell_type": "code",
      "source": [
        "# Instantiate the model and put it to the target device\n",
        "model = LinearRegressionModel()\n",
        "model.to(device)\n",
        "next(model.parameters()).device"
      ],
      "metadata": {
        "id": "5LdcDnmOmyQ2",
        "colab": {
          "base_uri": "https://localhost:8080/"
        },
        "outputId": "ada489cd-79f4-4df5-d47a-a1de567ac396"
      },
      "execution_count": 89,
      "outputs": [
        {
          "output_type": "execute_result",
          "data": {
            "text/plain": [
              "device(type='cuda', index=0)"
            ]
          },
          "metadata": {},
          "execution_count": 89
        }
      ]
    },
    {
      "cell_type": "markdown",
      "source": [
        "## 3. Create a loss function and optimizer using `nn.L1Loss()` and `torch.optim.SGD(params, lr)` respectively. \n",
        "  * Set the learning rate of the optimizer to be 0.01 and the parameters to optimize should be the model parameters from the model you created in 2.\n",
        "  * Write a training loop to perform the appropriate training steps for 300 epochs.\n",
        "  * The training loop should test the model on the test dataset every 20 epochs."
      ],
      "metadata": {
        "id": "G6nYOrJhjtfu"
      }
    },
    {
      "cell_type": "code",
      "source": [
        "# Create the loss function and optimizer\n",
        "loss_fct = nn.L1Loss()\n",
        "\n",
        "optimizer = torch.optim.SGD(params=model.parameters(), lr=0.01)"
      ],
      "metadata": {
        "id": "ltvoZ-FWjv1j"
      },
      "execution_count": 90,
      "outputs": []
    },
    {
      "cell_type": "code",
      "source": [
        "# Training loop\n",
        "torch.cuda.manual_seed(42)\n",
        "\n",
        "# Train model for 300 epochs\n",
        "epochs= 1000\n",
        "\n",
        "# Send data to target device\n",
        "\n",
        "\n",
        "for epoch in range(epochs):\n",
        "  ### Training\n",
        "\n",
        "  # Put model in train mode\n",
        "  model.train()\n",
        "\n",
        "  # 1. Forward pass\n",
        "  y_pred = model(X_train)\n",
        "\n",
        "  # 2. Calculate loss\n",
        "  loss = loss_fct(y_pred, y_train)\n",
        "\n",
        "  # 3. Zero gradients\n",
        "  optimizer.zero_grad()\n",
        "\n",
        "  # 4. Backpropagation\n",
        "  loss.backward()\n",
        "\n",
        "  # 5. Step the optimizer\n",
        "  optimizer.step()\n",
        "\n",
        "  ### Perform testing every 20 epochs\n",
        "  if epoch % 20 == 0:\n",
        "\n",
        "    # Put model in evaluation mode and setup inference context \n",
        "    model.eval()\n",
        "    with torch.inference_mode():\n",
        "      # 1. Forward pass\n",
        "      test_pred = model(X_test)\n",
        "      \n",
        "      # 2. Calculate test loss\n",
        "      test_loss = loss_fct(test_pred, y_test)\n",
        "\n",
        "      # Print out what's happening\n",
        "      print(f\"Epoch: {epoch} | Train loss: {loss:.3f} | Test loss: {test_loss:.3f}\")"
      ],
      "metadata": {
        "id": "xpE83NvNnkdV",
        "colab": {
          "base_uri": "https://localhost:8080/"
        },
        "outputId": "cedd7c7b-e724-48a1-df3d-7bbeedb11d6f"
      },
      "execution_count": 91,
      "outputs": [
        {
          "output_type": "stream",
          "name": "stdout",
          "text": [
            "Epoch: 0 | Train loss: 1.114 | Test loss: 1.033\n",
            "Epoch: 20 | Train loss: 0.858 | Test loss: 0.785\n",
            "Epoch: 40 | Train loss: 0.601 | Test loss: 0.537\n",
            "Epoch: 60 | Train loss: 0.345 | Test loss: 0.289\n",
            "Epoch: 80 | Train loss: 0.148 | Test loss: 0.114\n",
            "Epoch: 100 | Train loss: 0.099 | Test loss: 0.097\n",
            "Epoch: 120 | Train loss: 0.080 | Test loss: 0.090\n",
            "Epoch: 140 | Train loss: 0.071 | Test loss: 0.079\n",
            "Epoch: 160 | Train loss: 0.061 | Test loss: 0.068\n",
            "Epoch: 180 | Train loss: 0.052 | Test loss: 0.058\n",
            "Epoch: 200 | Train loss: 0.042 | Test loss: 0.047\n",
            "Epoch: 220 | Train loss: 0.032 | Test loss: 0.036\n",
            "Epoch: 240 | Train loss: 0.023 | Test loss: 0.025\n",
            "Epoch: 260 | Train loss: 0.013 | Test loss: 0.014\n",
            "Epoch: 280 | Train loss: 0.004 | Test loss: 0.003\n",
            "Epoch: 300 | Train loss: 0.010 | Test loss: 0.003\n",
            "Epoch: 320 | Train loss: 0.010 | Test loss: 0.003\n",
            "Epoch: 340 | Train loss: 0.010 | Test loss: 0.003\n",
            "Epoch: 360 | Train loss: 0.010 | Test loss: 0.003\n",
            "Epoch: 380 | Train loss: 0.010 | Test loss: 0.003\n",
            "Epoch: 400 | Train loss: 0.010 | Test loss: 0.003\n",
            "Epoch: 420 | Train loss: 0.010 | Test loss: 0.003\n",
            "Epoch: 440 | Train loss: 0.010 | Test loss: 0.003\n",
            "Epoch: 460 | Train loss: 0.010 | Test loss: 0.003\n",
            "Epoch: 480 | Train loss: 0.010 | Test loss: 0.003\n",
            "Epoch: 500 | Train loss: 0.010 | Test loss: 0.003\n",
            "Epoch: 520 | Train loss: 0.010 | Test loss: 0.003\n",
            "Epoch: 540 | Train loss: 0.010 | Test loss: 0.003\n",
            "Epoch: 560 | Train loss: 0.010 | Test loss: 0.003\n",
            "Epoch: 580 | Train loss: 0.010 | Test loss: 0.003\n",
            "Epoch: 600 | Train loss: 0.010 | Test loss: 0.003\n",
            "Epoch: 620 | Train loss: 0.010 | Test loss: 0.003\n",
            "Epoch: 640 | Train loss: 0.010 | Test loss: 0.003\n",
            "Epoch: 660 | Train loss: 0.010 | Test loss: 0.003\n",
            "Epoch: 680 | Train loss: 0.010 | Test loss: 0.003\n",
            "Epoch: 700 | Train loss: 0.010 | Test loss: 0.003\n",
            "Epoch: 720 | Train loss: 0.010 | Test loss: 0.003\n",
            "Epoch: 740 | Train loss: 0.010 | Test loss: 0.003\n",
            "Epoch: 760 | Train loss: 0.010 | Test loss: 0.003\n",
            "Epoch: 780 | Train loss: 0.010 | Test loss: 0.003\n",
            "Epoch: 800 | Train loss: 0.010 | Test loss: 0.003\n",
            "Epoch: 820 | Train loss: 0.010 | Test loss: 0.003\n",
            "Epoch: 840 | Train loss: 0.010 | Test loss: 0.003\n",
            "Epoch: 860 | Train loss: 0.010 | Test loss: 0.003\n",
            "Epoch: 880 | Train loss: 0.010 | Test loss: 0.003\n",
            "Epoch: 900 | Train loss: 0.010 | Test loss: 0.003\n",
            "Epoch: 920 | Train loss: 0.010 | Test loss: 0.003\n",
            "Epoch: 940 | Train loss: 0.010 | Test loss: 0.003\n",
            "Epoch: 960 | Train loss: 0.010 | Test loss: 0.003\n",
            "Epoch: 980 | Train loss: 0.010 | Test loss: 0.003\n"
          ]
        }
      ]
    },
    {
      "cell_type": "markdown",
      "source": [
        "## 4. Make predictions with the trained model on the test data.\n",
        "  * Visualize these predictions against the original training and testing data (**note:** you may need to make sure the predictions are *not* on the GPU if you want to use non-CUDA-enabled libraries such as matplotlib to plot)."
      ],
      "metadata": {
        "id": "x4j4TM18jwa7"
      }
    },
    {
      "cell_type": "code",
      "source": [
        "# Make predictions with the model\n",
        "model.eval()\n",
        "\n",
        "with torch.inference_mode():\n",
        "  y_preds = model(X_test)\n",
        "\n",
        "y_preds"
      ],
      "metadata": {
        "id": "bbMPK5Qjjyx_",
        "colab": {
          "base_uri": "https://localhost:8080/"
        },
        "outputId": "5e364ad4-58fa-4502-a8c3-c0975bf3637d"
      },
      "execution_count": 92,
      "outputs": [
        {
          "output_type": "execute_result",
          "data": {
            "text/plain": [
              "tensor([[0.9646],\n",
              "        [0.9405],\n",
              "        [1.1171],\n",
              "        [0.9810],\n",
              "        [1.1282],\n",
              "        [1.0053],\n",
              "        [1.1232],\n",
              "        [0.9267],\n",
              "        [0.9663],\n",
              "        [1.0842],\n",
              "        [1.0706],\n",
              "        [1.0027],\n",
              "        [1.1267],\n",
              "        [1.1389],\n",
              "        [0.9342],\n",
              "        [0.9621],\n",
              "        [1.1732],\n",
              "        [0.9907],\n",
              "        [0.9882],\n",
              "        [0.8989]], device='cuda:0')"
            ]
          },
          "metadata": {},
          "execution_count": 92
        }
      ]
    },
    {
      "cell_type": "code",
      "source": [
        "# Plot the predictions (these may need to be on a specific device)\n",
        "plot_predictions(predictions=y_preds.cpu())"
      ],
      "metadata": {
        "id": "K3BdmQaDpFo8",
        "colab": {
          "base_uri": "https://localhost:8080/",
          "height": 599
        },
        "outputId": "6ae78ae5-5e47-4f18-924e-80ba99300063"
      },
      "execution_count": 93,
      "outputs": [
        {
          "output_type": "display_data",
          "data": {
            "text/plain": [
              "<Figure size 1000x700 with 1 Axes>"
            ],
            "image/png": "[encoded data removed]"
          },
          "metadata": {}
        }
      ]
    },
    {
      "cell_type": "markdown",
      "source": [
        "## 5. Save your trained model's `state_dict()` to file.\n",
        "  * Create a new instance of your model class you made in 2. and load in the `state_dict()` you just saved to it.\n",
        "  * Perform predictions on your test data with the loaded model and confirm they match the original model predictions from 4."
      ],
      "metadata": {
        "id": "s2OnlMWKjzX8"
      }
    },
    {
      "cell_type": "code",
      "source": [
        "from pathlib import Path\n",
        "\n",
        "# 1. Create models directory \n",
        "MODEL_PATH = Path(\"models\")\n",
        "MODEL_PATH.mkdir(parents=True, exist_ok=True)\n",
        "\n",
        "# 2. Create model save path \n",
        "MODEL_NAME = \"01_pytorch_workflow_model_exercise.pth\"\n",
        "MODEL_SAVE_PATH = MODEL_PATH / MODEL_NAME\n",
        "\n",
        "# 3. Save the model state dict\n",
        "print(f\"Saving model to: {MODEL_SAVE_PATH}\")\n",
        "torch.save(obj=model.state_dict(), f=MODEL_SAVE_PATH)\n"
      ],
      "metadata": {
        "id": "hgxhgD14qr-i",
        "colab": {
          "base_uri": "https://localhost:8080/"
        },
        "outputId": "d91fcada-8331-4a90-ff9b-33b1f167d709"
      },
      "execution_count": 94,
      "outputs": [
        {
          "output_type": "stream",
          "name": "stdout",
          "text": [
            "Saving model to: models/01_pytorch_workflow_model_exercise.pth\n"
          ]
        }
      ]
    },
    {
      "cell_type": "code",
      "source": [
        "# Create new instance of model and load saved state dict (make sure to put it on the target device)\n",
        "loaded_model = LinearRegressionModel()\n",
        "\n",
        "loaded_model.load_state_dict(torch.load(MODEL_SAVE_PATH))\n",
        "\n",
        "loaded_model.to(device)"
      ],
      "metadata": {
        "id": "P9vTgiLRrJ7T",
        "colab": {
          "base_uri": "https://localhost:8080/"
        },
        "outputId": "010ca215-4c21-4507-a243-c9648b492f21"
      },
      "execution_count": 95,
      "outputs": [
        {
          "output_type": "execute_result",
          "data": {
            "text/plain": [
              "LinearRegressionModel(\n",
              "  (linear_layer): Linear(in_features=1, out_features=1, bias=True)\n",
              ")"
            ]
          },
          "metadata": {},
          "execution_count": 95
        }
      ]
    },
    {
      "cell_type": "code",
      "source": [
        "# Make predictions with loaded model and compare them to the previous\n",
        "loaded_model.eval()\n",
        "with torch.inference_mode():\n",
        "  loaded_model_pred = loaded_model(X_test)\n",
        "\n",
        "y_preds == loaded_model_pred"
      ],
      "metadata": {
        "id": "8UGX3VebrVtI",
        "colab": {
          "base_uri": "https://localhost:8080/"
        },
        "outputId": "d693c55e-e950-476e-d7df-3725d848417c"
      },
      "execution_count": 96,
      "outputs": [
        {
          "output_type": "execute_result",
          "data": {
            "text/plain": [
              "tensor([[True],\n",
              "        [True],\n",
              "        [True],\n",
              "        [True],\n",
              "        [True],\n",
              "        [True],\n",
              "        [True],\n",
              "        [True],\n",
              "        [True],\n",
              "        [True],\n",
              "        [True],\n",
              "        [True],\n",
              "        [True],\n",
              "        [True],\n",
              "        [True],\n",
              "        [True],\n",
              "        [True],\n",
              "        [True],\n",
              "        [True],\n",
              "        [True]], device='cuda:0')"
            ]
          },
          "metadata": {},
          "execution_count": 96
        }
      ]
    },
    {
      "cell_type": "code",
      "source": [],
      "metadata": {
        "id": "Pq6_DDNmcS0O"
      },
      "execution_count": null,
      "outputs": []
    }
  ]
}